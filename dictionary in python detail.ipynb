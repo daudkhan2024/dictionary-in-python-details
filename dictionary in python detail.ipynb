{
 "cells": [
  {
   "cell_type": "markdown",
   "id": "11d20dc8",
   "metadata": {},
   "source": [
    "### Python Dictionary"
   ]
  },
  {
   "cell_type": "code",
   "execution_count": 1,
   "id": "da45b8a2",
   "metadata": {},
   "outputs": [],
   "source": [
    "x = {\"name\":\"khan\",\"age\":\"20\"}"
   ]
  },
  {
   "cell_type": "code",
   "execution_count": 2,
   "id": "d19e0bc8",
   "metadata": {},
   "outputs": [
    {
     "data": {
      "text/plain": [
       "{'name': 'khan', 'age': '20'}"
      ]
     },
     "execution_count": 2,
     "metadata": {},
     "output_type": "execute_result"
    }
   ],
   "source": [
    "x"
   ]
  },
  {
   "cell_type": "code",
   "execution_count": 3,
   "id": "8863c420",
   "metadata": {},
   "outputs": [
    {
     "data": {
      "text/plain": [
       "dict_keys(['name', 'age'])"
      ]
     },
     "execution_count": 3,
     "metadata": {},
     "output_type": "execute_result"
    }
   ],
   "source": [
    "x.keys()"
   ]
  },
  {
   "cell_type": "code",
   "execution_count": 4,
   "id": "2c70cb9a",
   "metadata": {},
   "outputs": [
    {
     "data": {
      "text/plain": [
       "dict_keys(['name', 'age'])"
      ]
     },
     "execution_count": 4,
     "metadata": {},
     "output_type": "execute_result"
    }
   ],
   "source": [
    "x.keys()"
   ]
  },
  {
   "cell_type": "code",
   "execution_count": 5,
   "id": "00cef254",
   "metadata": {},
   "outputs": [
    {
     "data": {
      "text/plain": [
       "dict"
      ]
     },
     "execution_count": 5,
     "metadata": {},
     "output_type": "execute_result"
    }
   ],
   "source": [
    "type(x)"
   ]
  },
  {
   "cell_type": "code",
   "execution_count": 7,
   "id": "3bcd5113",
   "metadata": {},
   "outputs": [],
   "source": [
    "x1 = {\"name\":\"khan\",\"age\":\"20\", True:\"yes\",\"name\":\"shayan\"}"
   ]
  },
  {
   "cell_type": "code",
   "execution_count": 13,
   "id": "94da7938",
   "metadata": {},
   "outputs": [
    {
     "data": {
      "text/plain": [
       "{'name': 'shayan', 'age': '20', True: 'yes'}"
      ]
     },
     "execution_count": 13,
     "metadata": {},
     "output_type": "execute_result"
    }
   ],
   "source": [
    "x1# it will hod second occurence if keys are same\n",
    "#keys should be unique.it will try update data with last same key"
   ]
  },
  {
   "cell_type": "code",
   "execution_count": 15,
   "id": "1b1f00ca",
   "metadata": {},
   "outputs": [],
   "source": [
    "#special char not work as key...value can be duplicate"
   ]
  },
  {
   "cell_type": "code",
   "execution_count": 20,
   "id": "88f2e0df",
   "metadata": {},
   "outputs": [],
   "source": [
    "x1 = {\"name\":\"khan\",\"yes\":[2,3,4,5],\"nam\":(1,2,3,4), True:\"yes\",\"name\":\"shayan\"}"
   ]
  },
  {
   "cell_type": "code",
   "execution_count": 21,
   "id": "3a4f8b63",
   "metadata": {},
   "outputs": [
    {
     "data": {
      "text/plain": [
       "{'name': 'shayan', 'yes': [2, 3, 4, 5], 'nam': (1, 2, 3, 4), True: 'yes'}"
      ]
     },
     "execution_count": 21,
     "metadata": {},
     "output_type": "execute_result"
    }
   ],
   "source": [
    "x1"
   ]
  },
  {
   "cell_type": "code",
   "execution_count": 28,
   "id": "b72da0ad",
   "metadata": {},
   "outputs": [],
   "source": [
    "x1 = {\"name\":\"khan\",\"yes\":{\"omg\":[2,3,4,5]},\"age\":\"no\"}"
   ]
  },
  {
   "cell_type": "code",
   "execution_count": 30,
   "id": "09e132f2",
   "metadata": {},
   "outputs": [
    {
     "data": {
      "text/plain": [
       "{'name': 'khan', 'yes': {'omg': [2, 3, 4, 5]}, 'age': 'no'}"
      ]
     },
     "execution_count": 30,
     "metadata": {},
     "output_type": "execute_result"
    }
   ],
   "source": [
    "x1 #lsit as a key u can not "
   ]
  },
  {
   "cell_type": "code",
   "execution_count": 31,
   "id": "2f229648",
   "metadata": {},
   "outputs": [],
   "source": [
    "x3 = {(1,2,4):\"hi\"}"
   ]
  },
  {
   "cell_type": "code",
   "execution_count": 33,
   "id": "df27f43e",
   "metadata": {},
   "outputs": [
    {
     "data": {
      "text/plain": [
       "{(1, 2, 4): 'hi'}"
      ]
     },
     "execution_count": 33,
     "metadata": {},
     "output_type": "execute_result"
    }
   ],
   "source": [
    "x3 # tuple can work as a key"
   ]
  },
  {
   "cell_type": "code",
   "execution_count": 39,
   "id": "26bfb74e",
   "metadata": {},
   "outputs": [
    {
     "name": "stdout",
     "output_type": "stream",
     "text": [
      "4\n"
     ]
    }
   ],
   "source": [
    "for i in x3:\n",
    "    print(i[2])"
   ]
  },
  {
   "cell_type": "code",
   "execution_count": 41,
   "id": "ee902051",
   "metadata": {},
   "outputs": [
    {
     "data": {
      "text/plain": [
       "{'name': 'khan', 'yes': {'omg': [2, 3, 4, 5]}, 'age': 'no'}"
      ]
     },
     "execution_count": 41,
     "metadata": {},
     "output_type": "execute_result"
    }
   ],
   "source": [
    "x1"
   ]
  },
  {
   "cell_type": "code",
   "execution_count": 45,
   "id": "6f73cbf8",
   "metadata": {},
   "outputs": [
    {
     "data": {
      "text/plain": [
       "'khan'"
      ]
     },
     "execution_count": 45,
     "metadata": {},
     "output_type": "execute_result"
    }
   ],
   "source": [
    "x1[\"name\"]"
   ]
  },
  {
   "cell_type": "code",
   "execution_count": 49,
   "id": "c42245eb",
   "metadata": {},
   "outputs": [
    {
     "data": {
      "text/plain": [
       "{'omg': [2, 3, 4, 5]}"
      ]
     },
     "execution_count": 49,
     "metadata": {},
     "output_type": "execute_result"
    }
   ],
   "source": [
    "x1[\"yes\"]"
   ]
  },
  {
   "cell_type": "code",
   "execution_count": 98,
   "id": "e746147c",
   "metadata": {},
   "outputs": [
    {
     "data": {
      "text/plain": [
       "3"
      ]
     },
     "execution_count": 98,
     "metadata": {},
     "output_type": "execute_result"
    }
   ],
   "source": [
    "x1[\"yes\"][\"omg\"][1] # to get 3"
   ]
  },
  {
   "cell_type": "code",
   "execution_count": 88,
   "id": "888e54e6",
   "metadata": {},
   "outputs": [],
   "source": [
    "x3={4:\"yes\",\"hi\":[1,2,3,4]}"
   ]
  },
  {
   "cell_type": "code",
   "execution_count": 89,
   "id": "9620b254",
   "metadata": {
    "scrolled": true
   },
   "outputs": [
    {
     "data": {
      "text/plain": [
       "{4: 'yes', 'hi': [1, 2, 3, 4]}"
      ]
     },
     "execution_count": 89,
     "metadata": {},
     "output_type": "execute_result"
    }
   ],
   "source": [
    "x3"
   ]
  },
  {
   "cell_type": "code",
   "execution_count": 99,
   "id": "32339873",
   "metadata": {},
   "outputs": [],
   "source": [
    "x3[\"hi\"]=400 # to assign and change value"
   ]
  },
  {
   "cell_type": "code",
   "execution_count": 94,
   "id": "4a727bb5",
   "metadata": {},
   "outputs": [
    {
     "data": {
      "text/plain": [
       "{4: 'yes', 'hi': 400}"
      ]
     },
     "execution_count": 94,
     "metadata": {},
     "output_type": "execute_result"
    }
   ],
   "source": [
    "x3"
   ]
  },
  {
   "cell_type": "code",
   "execution_count": 100,
   "id": "fbc40acf",
   "metadata": {},
   "outputs": [],
   "source": [
    "x3[\"hi\"]-= 200# to do operation with value"
   ]
  },
  {
   "cell_type": "code",
   "execution_count": 96,
   "id": "8a99b1c5",
   "metadata": {},
   "outputs": [
    {
     "data": {
      "text/plain": [
       "{4: 'yes', 'hi': 200}"
      ]
     },
     "execution_count": 96,
     "metadata": {},
     "output_type": "execute_result"
    }
   ],
   "source": [
    "x3"
   ]
  },
  {
   "cell_type": "code",
   "execution_count": 101,
   "id": "7b22c070",
   "metadata": {},
   "outputs": [
    {
     "data": {
      "text/plain": [
       "True"
      ]
     },
     "execution_count": 101,
     "metadata": {},
     "output_type": "execute_result"
    }
   ],
   "source": [
    "200 in x3.values()"
   ]
  },
  {
   "cell_type": "code",
   "execution_count": 102,
   "id": "e2d7bb03",
   "metadata": {},
   "outputs": [
    {
     "data": {
      "text/plain": [
       "True"
      ]
     },
     "execution_count": 102,
     "metadata": {},
     "output_type": "execute_result"
    }
   ],
   "source": [
    "4 in x3.keys()"
   ]
  },
  {
   "cell_type": "code",
   "execution_count": 103,
   "id": "993b5300",
   "metadata": {},
   "outputs": [
    {
     "name": "stdout",
     "output_type": "stream",
     "text": [
      "4\n",
      "hi\n"
     ]
    }
   ],
   "source": [
    "for i in x3:\n",
    "    print(i) # it will only give keys"
   ]
  },
  {
   "cell_type": "code",
   "execution_count": 106,
   "id": "237974f2",
   "metadata": {},
   "outputs": [
    {
     "name": "stdout",
     "output_type": "stream",
     "text": [
      "yes\n",
      "200\n"
     ]
    }
   ],
   "source": [
    "for i in x3.keys():\n",
    "    print(x3[i])# it will give me values"
   ]
  },
  {
   "cell_type": "code",
   "execution_count": 108,
   "id": "85f59fdb",
   "metadata": {},
   "outputs": [
    {
     "name": "stdout",
     "output_type": "stream",
     "text": [
      "<class 'str'>\n",
      "<class 'int'>\n"
     ]
    }
   ],
   "source": [
    "for i in x3.keys():\n",
    "    print(type(x3[i]))# it will give me data type"
   ]
  },
  {
   "cell_type": "code",
   "execution_count": 109,
   "id": "159e19be",
   "metadata": {},
   "outputs": [
    {
     "data": {
      "text/plain": [
       "{4: 'yes', 'hi': 200}"
      ]
     },
     "execution_count": 109,
     "metadata": {},
     "output_type": "execute_result"
    }
   ],
   "source": [
    "x3"
   ]
  },
  {
   "cell_type": "code",
   "execution_count": 112,
   "id": "5f0344be",
   "metadata": {},
   "outputs": [
    {
     "data": {
      "text/plain": [
       "dict_items([(4, 'yes'), ('hi', 200)])"
      ]
     },
     "execution_count": 112,
     "metadata": {},
     "output_type": "execute_result"
    }
   ],
   "source": [
    "x3.items ()# it will return me in list of tuple"
   ]
  },
  {
   "cell_type": "code",
   "execution_count": 113,
   "id": "f1438080",
   "metadata": {},
   "outputs": [
    {
     "data": {
      "text/plain": [
       "dict_items"
      ]
     },
     "execution_count": 113,
     "metadata": {},
     "output_type": "execute_result"
    }
   ],
   "source": [
    "type(x3.items ())"
   ]
  },
  {
   "cell_type": "code",
   "execution_count": 117,
   "id": "85d2cd07",
   "metadata": {},
   "outputs": [
    {
     "name": "stdout",
     "output_type": "stream",
     "text": [
      "(4, 'yes')\n",
      "('hi', 200)\n"
     ]
    }
   ],
   "source": [
    "for i in x3.items():\n",
    "    print(i)"
   ]
  },
  {
   "cell_type": "code",
   "execution_count": 119,
   "id": "d3c3c046",
   "metadata": {},
   "outputs": [
    {
     "name": "stdout",
     "output_type": "stream",
     "text": [
      "yes\n",
      "200\n"
     ]
    }
   ],
   "source": [
    "for i in x3.items():\n",
    "    print(i[1])"
   ]
  },
  {
   "cell_type": "code",
   "execution_count": 120,
   "id": "03899b46",
   "metadata": {},
   "outputs": [],
   "source": [
    "x5 = {(1,2,3,4):\"khan\"}"
   ]
  },
  {
   "cell_type": "code",
   "execution_count": 124,
   "id": "0b9a7bc0",
   "metadata": {},
   "outputs": [
    {
     "data": {
      "text/plain": [
       "'khan'"
      ]
     },
     "execution_count": 124,
     "metadata": {},
     "output_type": "execute_result"
    }
   ],
   "source": [
    "x5[(1,2,3,4)]"
   ]
  },
  {
   "cell_type": "code",
   "execution_count": 125,
   "id": "d5363ecb",
   "metadata": {},
   "outputs": [
    {
     "data": {
      "text/plain": [
       "2"
      ]
     },
     "execution_count": 125,
     "metadata": {},
     "output_type": "execute_result"
    }
   ],
   "source": [
    "len(x3)"
   ]
  },
  {
   "cell_type": "code",
   "execution_count": 213,
   "id": "264a7d31",
   "metadata": {},
   "outputs": [],
   "source": [
    "#task:# give a paragraph as input and change it into list\n",
    "      #remove duplicate\n",
    "    #change all value in dictionary to your name \"khan\"\n",
    "    #print all keys into tuple\n",
    "    \n",
    "    "
   ]
  },
  {
   "cell_type": "code",
   "execution_count": 214,
   "id": "f7cabdde",
   "metadata": {},
   "outputs": [
    {
     "name": "stdout",
     "output_type": "stream",
     "text": [
      "enter your paraghraph here\n"
     ]
    }
   ],
   "source": [
    "paragraph = input(\"enter your paraghraph here\")"
   ]
  },
  {
   "cell_type": "code",
   "execution_count": 215,
   "id": "7ea6d2be",
   "metadata": {},
   "outputs": [],
   "source": [
    "list=[]"
   ]
  },
  {
   "cell_type": "code",
   "execution_count": 146,
   "id": "5e569045",
   "metadata": {},
   "outputs": [],
   "source": [
    "list.append(paragraph)"
   ]
  },
  {
   "cell_type": "code",
   "execution_count": 147,
   "id": "91821a0e",
   "metadata": {},
   "outputs": [
    {
     "data": {
      "text/plain": [
       "['Python is a high-level, general-purpose programming language. Its design philosophy emphasizes code readability with the use of significant indentation. Python is dynamically-typed and garbage-collected. It supports multiple programming paradigms, including structured, object-oriented and functional programming']"
      ]
     },
     "execution_count": 147,
     "metadata": {},
     "output_type": "execute_result"
    }
   ],
   "source": [
    "list"
   ]
  },
  {
   "cell_type": "code",
   "execution_count": 154,
   "id": "d08c3e80",
   "metadata": {},
   "outputs": [],
   "source": [
    "list = paragraph.split(\" \")"
   ]
  },
  {
   "cell_type": "code",
   "execution_count": 155,
   "id": "14590a58",
   "metadata": {},
   "outputs": [
    {
     "data": {
      "text/plain": [
       "['Python',\n",
       " 'is',\n",
       " 'a',\n",
       " 'high-level,',\n",
       " 'general-purpose',\n",
       " 'programming',\n",
       " 'language.',\n",
       " 'Its',\n",
       " 'design',\n",
       " 'philosophy',\n",
       " 'emphasizes',\n",
       " 'code',\n",
       " 'readability',\n",
       " 'with',\n",
       " 'the',\n",
       " 'use',\n",
       " 'of',\n",
       " 'significant',\n",
       " 'indentation.',\n",
       " 'Python',\n",
       " 'is',\n",
       " 'dynamically-typed',\n",
       " 'and',\n",
       " 'garbage-collected.',\n",
       " 'It',\n",
       " 'supports',\n",
       " 'multiple',\n",
       " 'programming',\n",
       " 'paradigms,',\n",
       " 'including',\n",
       " 'structured,',\n",
       " 'object-oriented',\n",
       " 'and',\n",
       " 'functional',\n",
       " 'programming']"
      ]
     },
     "execution_count": 155,
     "metadata": {},
     "output_type": "execute_result"
    }
   ],
   "source": [
    "list"
   ]
  },
  {
   "cell_type": "code",
   "execution_count": 156,
   "id": "c23d41a5",
   "metadata": {},
   "outputs": [],
   "source": [
    "s1 = set(list)"
   ]
  },
  {
   "cell_type": "code",
   "execution_count": 157,
   "id": "1ea27975",
   "metadata": {},
   "outputs": [
    {
     "data": {
      "text/plain": [
       "{'It',\n",
       " 'Its',\n",
       " 'Python',\n",
       " 'a',\n",
       " 'and',\n",
       " 'code',\n",
       " 'design',\n",
       " 'dynamically-typed',\n",
       " 'emphasizes',\n",
       " 'functional',\n",
       " 'garbage-collected.',\n",
       " 'general-purpose',\n",
       " 'high-level,',\n",
       " 'including',\n",
       " 'indentation.',\n",
       " 'is',\n",
       " 'language.',\n",
       " 'multiple',\n",
       " 'object-oriented',\n",
       " 'of',\n",
       " 'paradigms,',\n",
       " 'philosophy',\n",
       " 'programming',\n",
       " 'readability',\n",
       " 'significant',\n",
       " 'structured,',\n",
       " 'supports',\n",
       " 'the',\n",
       " 'use',\n",
       " 'with'}"
      ]
     },
     "execution_count": 157,
     "metadata": {},
     "output_type": "execute_result"
    }
   ],
   "source": [
    "s1"
   ]
  },
  {
   "cell_type": "code",
   "execution_count": 158,
   "id": "3f1491ec",
   "metadata": {},
   "outputs": [],
   "source": [
    "dic1 = dict.fromkeys(s1,\"khan\")"
   ]
  },
  {
   "cell_type": "code",
   "execution_count": 207,
   "id": "fa708c61",
   "metadata": {},
   "outputs": [
    {
     "data": {
      "text/plain": [
       "{'dynamically-typed': 'khan',\n",
       " 'code': 'khan',\n",
       " 'object-oriented': 'khan',\n",
       " 'multiple': 'khan',\n",
       " 'is': 'khan',\n",
       " 'supports': 'khan',\n",
       " 'design': 'khan',\n",
       " 'structured,': 'khan',\n",
       " 'and': 'khan',\n",
       " 'garbage-collected.': 'khan',\n",
       " 'high-level,': 'khan',\n",
       " 'a': 'khan',\n",
       " 'Python': 'khan',\n",
       " 'use': 'khan',\n",
       " 'paradigms,': 'khan',\n",
       " 'philosophy': 'khan',\n",
       " 'language.': 'khan',\n",
       " 'including': 'khan',\n",
       " 'general-purpose': 'khan',\n",
       " 'of': 'khan',\n",
       " 'the': 'khan',\n",
       " 'programming': 'khan',\n",
       " 'It': 'khan',\n",
       " 'functional': 'khan',\n",
       " 'readability': 'khan',\n",
       " 'significant': 'khan',\n",
       " 'Its': 'khan',\n",
       " 'with': 'khan',\n",
       " 'indentation.': 'khan',\n",
       " 'emphasizes': 'khan'}"
      ]
     },
     "execution_count": 207,
     "metadata": {},
     "output_type": "execute_result"
    }
   ],
   "source": [
    "dic1"
   ]
  },
  {
   "cell_type": "code",
   "execution_count": 211,
   "id": "b8ae2ee5",
   "metadata": {},
   "outputs": [],
   "source": [
    "t1=tuple(dic1.keys())"
   ]
  },
  {
   "cell_type": "code",
   "execution_count": 212,
   "id": "df04fdbf",
   "metadata": {},
   "outputs": [
    {
     "data": {
      "text/plain": [
       "('dynamically-typed',\n",
       " 'code',\n",
       " 'object-oriented',\n",
       " 'multiple',\n",
       " 'is',\n",
       " 'supports',\n",
       " 'design',\n",
       " 'structured,',\n",
       " 'and',\n",
       " 'garbage-collected.',\n",
       " 'high-level,',\n",
       " 'a',\n",
       " 'Python',\n",
       " 'use',\n",
       " 'paradigms,',\n",
       " 'philosophy',\n",
       " 'language.',\n",
       " 'including',\n",
       " 'general-purpose',\n",
       " 'of',\n",
       " 'the',\n",
       " 'programming',\n",
       " 'It',\n",
       " 'functional',\n",
       " 'readability',\n",
       " 'significant',\n",
       " 'Its',\n",
       " 'with',\n",
       " 'indentation.',\n",
       " 'emphasizes')"
      ]
     },
     "execution_count": 212,
     "metadata": {},
     "output_type": "execute_result"
    }
   ],
   "source": [
    "t1"
   ]
  },
  {
   "cell_type": "markdown",
   "id": "775025cc",
   "metadata": {},
   "source": [
    "# "
   ]
  },
  {
   "cell_type": "code",
   "execution_count": 205,
   "id": "a2ea79d5",
   "metadata": {},
   "outputs": [],
   "source": [
    "##task how to update a value using for loop"
   ]
  },
  {
   "cell_type": "code",
   "execution_count": 200,
   "id": "ed9887da",
   "metadata": {},
   "outputs": [],
   "source": [
    "d = {\"name\":\"wholesale\",\"year\":2021}"
   ]
  },
  {
   "cell_type": "code",
   "execution_count": 202,
   "id": "cd8b715e",
   "metadata": {},
   "outputs": [
    {
     "name": "stdout",
     "output_type": "stream",
     "text": [
      "print a key... name valeue.. wholesale\n",
      "print a key... year valeue.. 2021\n"
     ]
    }
   ],
   "source": [
    "for i in d:\n",
    "    print(\"print a key...\",i,\"valeue..\",d[i])"
   ]
  },
  {
   "cell_type": "code",
   "execution_count": 203,
   "id": "3940777e",
   "metadata": {},
   "outputs": [],
   "source": [
    "for i in d:\n",
    "    if i == \"year\":\n",
    "        if d[i] > 2021:\n",
    "            print(\"its fine\")\n",
    "        else:\n",
    "            d[i] = 2022"
   ]
  },
  {
   "cell_type": "code",
   "execution_count": 204,
   "id": "244ae4e0",
   "metadata": {},
   "outputs": [
    {
     "data": {
      "text/plain": [
       "{'name': 'wholesale', 'year': 2022}"
      ]
     },
     "execution_count": 204,
     "metadata": {},
     "output_type": "execute_result"
    }
   ],
   "source": [
    "d"
   ]
  },
  {
   "cell_type": "code",
   "execution_count": 220,
   "id": "3081d4d0",
   "metadata": {},
   "outputs": [],
   "source": [
    "#task creat a dic where key will be number 10 and value should be square"
   ]
  },
  {
   "cell_type": "code",
   "execution_count": 218,
   "id": "f1bef5e1",
   "metadata": {},
   "outputs": [],
   "source": [
    "my_dic= {}\n",
    "for i in range(10):\n",
    "    my_dic[i] = i*i\n",
    "    "
   ]
  },
  {
   "cell_type": "code",
   "execution_count": 219,
   "id": "1af28b7f",
   "metadata": {},
   "outputs": [
    {
     "data": {
      "text/plain": [
       "{0: 0, 1: 1, 2: 4, 3: 9, 4: 16, 5: 25, 6: 36, 7: 49, 8: 64, 9: 81}"
      ]
     },
     "execution_count": 219,
     "metadata": {},
     "output_type": "execute_result"
    }
   ],
   "source": [
    "my_dic"
   ]
  },
  {
   "cell_type": "code",
   "execution_count": 221,
   "id": "adc4fa1d",
   "metadata": {},
   "outputs": [
    {
     "data": {
      "text/plain": [
       "{0: 0, 1: 1, 2: 4, 3: 9, 4: 16, 5: 25, 6: 36, 7: 49, 8: 64, 9: 81}"
      ]
     },
     "execution_count": 221,
     "metadata": {},
     "output_type": "execute_result"
    }
   ],
   "source": [
    "#dic comphrehension\n",
    "{i:i*i for i in range(10)}"
   ]
  },
  {
   "cell_type": "code",
   "execution_count": null,
   "id": "6e756052",
   "metadata": {},
   "outputs": [],
   "source": []
  }
 ],
 "metadata": {
  "kernelspec": {
   "display_name": "Python 3 (ipykernel)",
   "language": "python",
   "name": "python3"
  },
  "language_info": {
   "codemirror_mode": {
    "name": "ipython",
    "version": 3
   },
   "file_extension": ".py",
   "mimetype": "text/x-python",
   "name": "python",
   "nbconvert_exporter": "python",
   "pygments_lexer": "ipython3",
   "version": "3.9.12"
  }
 },
 "nbformat": 4,
 "nbformat_minor": 5
}
